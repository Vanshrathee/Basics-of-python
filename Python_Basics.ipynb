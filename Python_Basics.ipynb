{
  "nbformat": 4,
  "nbformat_minor": 0,
  "metadata": {
    "colab": {
      "provenance": []
    },
    "kernelspec": {
      "name": "python3",
      "display_name": "Python 3"
    },
    "language_info": {
      "name": "python"
    }
  },
  "cells": [
    {
      "cell_type": "markdown",
      "source": [
        "#*Python* *Basics*\n",
        "\n",
        "---\n",
        "\n",
        "\n",
        "\n",
        "\n"
      ],
      "metadata": {
        "id": "PLWiiCteOWMc"
      }
    },
    {
      "cell_type": "markdown",
      "source": [
        "1 What is Python, and why is it popular?              \n",
        "                                                      \n",
        "  - Python is a programming language that is very simple\n",
        "  as english\n",
        "  -It is a popular language\n",
        "  because it is most vastly used because of its versatility and it is easy to use\n",
        "  -It has great extensive libraries and frameworks to\n",
        "  work on                                            \n",
        "  -It has a large community support\n",
        "  Thats why its the most popular language in the modern times\n"
      ],
      "metadata": {
        "id": "IRIl5EtEPML4"
      }
    },
    {
      "cell_type": "markdown",
      "source": [
        "2 What is an interpreter in Python?\n",
        "\n",
        "  - An interpreter in Python is a software that directly executes the instructions written in the Python programming language, without requiring them to be compiled into machine code.\n",
        "  As now in the google colab the defualt interpreter used is CPython\n"
      ],
      "metadata": {
        "id": "01anaF8OPMIc"
      }
    },
    {
      "cell_type": "markdown",
      "source": [
        "3 What are pre-defined keywords in Python?\n",
        "\n",
        "  - Pre-defined keywords in Python, also known as reserved words, are words that have special meaning in the language and cannot be used for any other purpose like variable names, function names, or identifiers.\n",
        "  We can get all the keywords by giving the command\n",
        "  help('keywords')\n",
        "  As-\n",
        "   "
      ],
      "metadata": {
        "id": "gk23KYUVPMFn"
      }
    },
    {
      "cell_type": "code",
      "source": [
        "help('keywords')"
      ],
      "metadata": {
        "colab": {
          "base_uri": "https://localhost:8080/"
        },
        "id": "EcI3D2nVd-ei",
        "outputId": "c1c1eb24-83bc-4b35-8416-321e6b6710fc"
      },
      "execution_count": 1,
      "outputs": [
        {
          "output_type": "stream",
          "name": "stdout",
          "text": [
            "\n",
            "Here is a list of the Python keywords.  Enter any keyword to get more help.\n",
            "\n",
            "False               class               from                or\n",
            "None                continue            global              pass\n",
            "True                def                 if                  raise\n",
            "and                 del                 import              return\n",
            "as                  elif                in                  try\n",
            "assert              else                is                  while\n",
            "async               except              lambda              with\n",
            "await               finally             nonlocal            yield\n",
            "break               for                 not                 \n",
            "\n"
          ]
        }
      ]
    },
    {
      "cell_type": "markdown",
      "source": [
        "4 Can keywords be used as variable names?\n",
        "\n",
        "  - As we learned in the pw skills lecture that keywords should not be used as the variables becuase it will show the syntax error in the code\n",
        "  For example:-\n",
        "  "
      ],
      "metadata": {
        "id": "N7-u3nIDPL9Z"
      }
    },
    {
      "cell_type": "code",
      "source": [
        "\n",
        "class =7\n"
      ],
      "metadata": {
        "colab": {
          "base_uri": "https://localhost:8080/",
          "height": 106
        },
        "id": "w3EBq4_UPJIk",
        "outputId": "25a7da79-7008-4ffb-8997-eaa7352e5d57"
      },
      "execution_count": 8,
      "outputs": [
        {
          "output_type": "error",
          "ename": "SyntaxError",
          "evalue": "invalid syntax (<ipython-input-8-10d51ba20418>, line 1)",
          "traceback": [
            "\u001b[0;36m  File \u001b[0;32m\"<ipython-input-8-10d51ba20418>\"\u001b[0;36m, line \u001b[0;32m1\u001b[0m\n\u001b[0;31m    class =7\u001b[0m\n\u001b[0m          ^\u001b[0m\n\u001b[0;31mSyntaxError\u001b[0m\u001b[0;31m:\u001b[0m invalid syntax\n"
          ]
        }
      ]
    },
    {
      "cell_type": "markdown",
      "source": [
        "  - Hence here we can not define the value of the keyword class it is showing\n",
        "  the syntax error"
      ],
      "metadata": {
        "id": "hoiZUvSiPKds"
      }
    },
    {
      "cell_type": "markdown",
      "source": [
        "5 What is mutability in Python?\n",
        "\n",
        "  - Mutability is refered to the ability of an object to be changed after it has been created\n",
        "  - Objects whose state or value can be changed after they are created are called Mutable objects.\n",
        "                    Or                        \n",
        "  - Objects in which the Item Assignment operations can be performed are called mutable objects\n",
        "\n",
        "  - Lists,Dictionries and Sets are Mutable and Strings,Tuples and Frozen Sets are immutable\n",
        "  \n",
        "  - For example-"
      ],
      "metadata": {
        "id": "CvdpS43SS2bK"
      }
    },
    {
      "cell_type": "code",
      "source": [
        "list_1=[1,2,3+5j,True,\"Ajay\"]\n",
        "list_1[3]"
      ],
      "metadata": {
        "colab": {
          "base_uri": "https://localhost:8080/"
        },
        "id": "kvKxV3AeVvdX",
        "outputId": "b15cbe94-bfbc-4403-8015-539b659367f5"
      },
      "execution_count": 10,
      "outputs": [
        {
          "output_type": "execute_result",
          "data": {
            "text/plain": [
              "True"
            ]
          },
          "metadata": {},
          "execution_count": 10
        }
      ]
    },
    {
      "cell_type": "code",
      "source": [
        "list_1[3]=False\n",
        "list_1"
      ],
      "metadata": {
        "colab": {
          "base_uri": "https://localhost:8080/"
        },
        "id": "HDVY55lJXPpN",
        "outputId": "54218121-bd2c-4b2a-df64-d9c5392bf59c"
      },
      "execution_count": 11,
      "outputs": [
        {
          "output_type": "execute_result",
          "data": {
            "text/plain": [
              "[1, 2, (3+5j), False, 'Ajay']"
            ]
          },
          "metadata": {},
          "execution_count": 11
        }
      ]
    },
    {
      "cell_type": "markdown",
      "source": [
        "  - Hence it is a Mutable Object\n",
        "  "
      ],
      "metadata": {
        "id": "vXqM6wAgXyCl"
      }
    },
    {
      "cell_type": "markdown",
      "source": [
        "6 Why are lists mutable, but tuples are immutable?\n",
        "\n",
        "  - Every diffrent dataset has its diffrent properties\n",
        "  - The main reason for the diffrence in the mutability is due to their intended use cases\n",
        "  - Lists are suitable for scenerios where the collection of the data items is expected to the change over the time\n",
        "  - Tuples are ideal for repersenting fixed collection of data items\n",
        "\n",
        "\n"
      ],
      "metadata": {
        "id": "-cKC-clVYADC"
      }
    },
    {
      "cell_type": "markdown",
      "source": [
        "7 What is the difference between “==” and “is” operators in Python?\n",
        "\n",
        "  - The == and is operators are used for different purposes:\n",
        "\n",
        "  - == Operator\n",
        "  - Purpose: Checks for equality.\n",
        "\n",
        "   Usage: Compares the values of two objects to see if they are equal.\n",
        "\n",
        "  - is Operator\n",
        "  - Purpose: Checks for identity.\n",
        "\n",
        "  Usage: Compares the memory addresses of two objects to see if they refer to the same object.\n"
      ],
      "metadata": {
        "id": "OEuzeURcaR40"
      }
    },
    {
      "cell_type": "markdown",
      "source": [
        "8 What are logical operators in Python?\n",
        "\n",
        "  - Logical operators in Python are used to perform logical operations on values and variables. These operators help in making decisions based on certain conditions. There are three main logical operators in Python:\n",
        "\n",
        "  1 and: Returns True if both statements are true.\n",
        "\n",
        "  2 or: Returns True if at least one of the statements is true.\n",
        "\n",
        "  3 not: Returns True if the statement is false, and vice versa."
      ],
      "metadata": {
        "id": "rTdfAFs0bjf2"
      }
    },
    {
      "cell_type": "markdown",
      "source": [
        "9 What is type casting in Python?\n",
        "\n",
        "  - Type casting in Python refers to the process of converting a variable from one data type to another. This is useful when you need to perform operations that require variables to be of a specific type. There are two types of type casting: implicit and explicit.\n",
        "\n",
        "  - Implicit Type Casting\n",
        "  Python automatically converts one data type to another without any explicit instructions from the programmer. This usually happens when performing operations between different types.\n",
        "\n",
        "  - Explicit Type Casting\n",
        "  The programmer manually converts a variable from one data type to another using built-in functions like int(), float(), str(), etc.\n",
        "\n",
        "  - Common Type Casting Functions\n",
        "  \n",
        "  int(x): Converts x to an integer.\n",
        "  \n",
        "  float(x): Converts x to a float.\n",
        "\n",
        "  str(x): Converts x to a string.\n",
        "\n",
        "  list(x): Converts x to a list.\n",
        "\n",
        "  tuple(x): Converts x to a tuple.\n",
        "\n",
        "  set(x): Converts x to a set.\n",
        "\n",
        "\n",
        "  "
      ],
      "metadata": {
        "id": "AN9LZNp4cywy"
      }
    },
    {
      "cell_type": "code",
      "source": [
        "a=10\n",
        "type(a)\n"
      ],
      "metadata": {
        "colab": {
          "base_uri": "https://localhost:8080/"
        },
        "id": "IGTNtf_LeSBZ",
        "outputId": "60c15dd5-7624-41ea-d9ed-f3a94dfc7366"
      },
      "execution_count": 26,
      "outputs": [
        {
          "output_type": "execute_result",
          "data": {
            "text/plain": [
              "int"
            ]
          },
          "metadata": {},
          "execution_count": 26
        }
      ]
    },
    {
      "cell_type": "code",
      "source": [
        "b=float(a)\n",
        "b\n"
      ],
      "metadata": {
        "colab": {
          "base_uri": "https://localhost:8080/"
        },
        "id": "MAOz7YAofQ25",
        "outputId": "d1b4cec4-c172-4b6b-8e07-366238e1e7cb"
      },
      "execution_count": 27,
      "outputs": [
        {
          "output_type": "execute_result",
          "data": {
            "text/plain": [
              "10.0"
            ]
          },
          "metadata": {},
          "execution_count": 27
        }
      ]
    },
    {
      "cell_type": "code",
      "source": [
        "type(b)"
      ],
      "metadata": {
        "colab": {
          "base_uri": "https://localhost:8080/"
        },
        "id": "reX8l__5XwGe",
        "outputId": "a0e4d36e-fb8a-41bd-858d-d5c2090ba092"
      },
      "execution_count": 28,
      "outputs": [
        {
          "output_type": "execute_result",
          "data": {
            "text/plain": [
              "float"
            ]
          },
          "metadata": {},
          "execution_count": 28
        }
      ]
    },
    {
      "cell_type": "markdown",
      "source": [
        "10 What is the difference between implicit and\n",
        "   explicit type casting?\n",
        "\n",
        "  - Implicit Type Casting\n",
        "  Python automatically converts one data type to another without any explicit instructions from the programmer. This usually happens when performing operations between different types.\n",
        "\n",
        "  - Explicit Type Casting\n",
        "  The programmer manually converts a variable from one data type to another using built-in functions like int(), float(), str(), etc."
      ],
      "metadata": {
        "id": "Bv2jd5Ddf3Kx"
      }
    },
    {
      "cell_type": "markdown",
      "source": [
        "11 What is the purpose of conditional statements in Python?\n",
        "\n",
        "  - Conditional statements in Python are used to make decisions in your code based on specific conditions. They allow you to execute certain blocks of code only when certain conditions are met. This is crucial for controlling the flow of a program and implementing logic. The main conditional statements in Python are if, elif, and else.\n",
        "\n",
        "  Purpose of Conditional Statements\n",
        "  - Decision Making: They help the program decide which code to execute based on whether a condition is true or false.\n",
        "\n",
        "  - Control Flow: They control the flow of the program, allowing different paths of execution depending on the conditions.\n",
        "\n",
        "  - Efficiency: They allow you to avoid executing unnecessary code, making the program more efficient.\n",
        "   \n",
        "  - There are the variors types of conditional statements\n",
        "\n",
        "  - if statements\n",
        "\n",
        "  - if-else statetments\n",
        "\n",
        "  - if-elif-else\n",
        "\n",
        "  - Nested if-else\n",
        "  "
      ],
      "metadata": {
        "id": "u-ioub_jgNir"
      }
    },
    {
      "cell_type": "markdown",
      "source": [
        "12 How does the elif statement work?\n",
        "  \n",
        "  - The elif statement in Python stands for \"else if\" and is used to check multiple conditions sequentially. It allows you to add additional conditions to an if statement without needing to nest multiple if stements.\n",
        "\n",
        "  Syntax:\n",
        "\n",
        "  - if condition1:\n",
        "\n",
        "  Code to execute if condition1 is True\n",
        "\n",
        "  - elif condition2:\n",
        "\n",
        "  Code to execute if condition1 is False and condition2 is True\n",
        "\n",
        "  - elif condition3:\n",
        "\n",
        "  Code to execute if condition1 and condition2 are False, and condition3 is True\n",
        "\n",
        "  - else:\n",
        "\n",
        "  Code to execute if all conditions are False\n",
        "   \n"
      ],
      "metadata": {
        "id": "yp6vexUZiwgf"
      }
    },
    {
      "cell_type": "code",
      "source": [
        "age=29\n",
        "if age<18:\n",
        "  print(\"You are a minor\")\n",
        "elif age>=18 and age<60:\n",
        "  print(\"You are an adult\")\n",
        "else:\n",
        "  print(\"You are a senior citizen\")\n",
        "\n"
      ],
      "metadata": {
        "colab": {
          "base_uri": "https://localhost:8080/"
        },
        "id": "QwKNLHt6f2yA",
        "outputId": "36228738-ef4f-4305-f183-d2fb2254c9a5"
      },
      "execution_count": 29,
      "outputs": [
        {
          "output_type": "stream",
          "name": "stdout",
          "text": [
            "You are an adult\n"
          ]
        }
      ]
    },
    {
      "cell_type": "markdown",
      "source": [
        "13 What is the difference between for and while loops?\n",
        "\n",
        "  - for loops and while loops are both used to repeat a block of code multiple times, but they are used in different situations and have distinct characteristics\n",
        "\n",
        "  - Key Differences\n",
        "\n",
        "  - Control Structure:\n",
        "\n",
        "   for loop iterates over elements of a sequence or a range.\n",
        "\n",
        "   while loop continues as long as the specified condition is true.\n",
        "\n",
        "  - Use Case:\n",
        "\n",
        "   Use for loop when you have a sequence or range to iterate over.\n",
        "   \n",
        "   Use while loop when you need to repeat an action until a condition changes.\n",
        "\n",
        "  - Initialization:\n",
        "\n",
        "   In for loop, the iteration variable is automatically initialized and updated.\n",
        "\n",
        "   In while loop, you need to initialize and update the condition variable manually."
      ],
      "metadata": {
        "id": "8RqZx3wZlx1Y"
      }
    },
    {
      "cell_type": "markdown",
      "source": [
        "14 Describe a scenario where a while loop is more suitable than a for loop?\n",
        "\n",
        "  - A while loop is more suitable than a for loop in scenarios where the number of iterations is not known in advance and the loop needs to run until a certain condition is met. Here’s an example to illustrate this:\n",
        "\n",
        "  - Scenario: User Login Attempts\n",
        "\n",
        "  Imagine you are creating a program that allows a user to log in by entering a correct password. The user has up to three attempts to enter the correct password, but if they enter the correct password before exhausting all attempts, the loop should terminate early.\n",
        "\n",
        "  This situation is more suitable for a while loop because the number of attempts is variable and depends on when the user enters the correct password.\n",
        "\n",
        "  \n"
      ],
      "metadata": {
        "id": "NYcktFDJrU2M"
      }
    },
    {
      "cell_type": "code",
      "source": [
        "correct_password = \"securepassword\"\n",
        "attempts = 0\n",
        "max_attempts = 3\n",
        "\n",
        "while attempts < max_attempts:\n",
        "    entered_password = input(\"Enter your password: \")\n",
        "    if entered_password == correct_password:\n",
        "        print(\"Access granted.\")\n",
        "        break  # Exit the loop if the password is correct\n",
        "    else:\n",
        "        attempts += 1\n",
        "        print(f\"Incorrect password. You have {max_attempts - attempts} attempts left.\")\n",
        "\n",
        "if attempts == max_attempts:\n",
        "    print(\"Access denied. You have exhausted all attempts.\")"
      ],
      "metadata": {
        "colab": {
          "base_uri": "https://localhost:8080/"
        },
        "id": "fiFnB3b1fB3a",
        "outputId": "a4b1b2c0-ea37-424a-81f7-0017718465ce"
      },
      "execution_count": 34,
      "outputs": [
        {
          "output_type": "stream",
          "name": "stdout",
          "text": [
            "Enter your password: correct_password\n",
            "Incorrect password. You have 2 attempts left.\n",
            "Enter your password: correct_password\n",
            "Incorrect password. You have 1 attempts left.\n",
            "Enter your password: securepassword\n",
            "Access granted.\n"
          ]
        }
      ]
    },
    {
      "cell_type": "markdown",
      "source": [
        "  - Explanation\n",
        "\n",
        "  The while loop continues to prompt the user for the password as long as the number of attempts is less than the maximum allowed attempts (max_attempts).\n",
        "\n",
        "  If the user enters the correct password (entered_password == correct_password), the loop terminates early using the break statement.\n",
        "\n",
        "  If the user fails to enter the correct password within the allowed attempts, the loop ends, and an \"Access denied\" message is displayed.\n",
        "\n",
        "  In this scenario, a while loop is more suitable than a for loop because the loop needs to run an unknown number of times until the correct password is entered or the maximum attempts are reached."
      ],
      "metadata": {
        "id": "a96uizACsm8K"
      }
    },
    {
      "cell_type": "markdown",
      "source": [
        "# **#Practical Questions**\n"
      ],
      "metadata": {
        "id": "1XS8tO-2ucOs"
      }
    },
    {
      "cell_type": "code",
      "source": [
        "#Question1: Write a Python program to print \"Hello, World!\n",
        "\n",
        "print(\"Hello,World!\")"
      ],
      "metadata": {
        "colab": {
          "base_uri": "https://localhost:8080/"
        },
        "id": "zr-44qGFxvOi",
        "outputId": "f02a5719-25f7-4392-c9b7-79d1c1fcb485"
      },
      "execution_count": 35,
      "outputs": [
        {
          "output_type": "stream",
          "name": "stdout",
          "text": [
            "Hello,World!\n"
          ]
        }
      ]
    },
    {
      "cell_type": "code",
      "source": [
        "#Question2:  Write a Python program that displays your name and age\n",
        "name = \"Vansh\"\n",
        "age = 20\n",
        "print(\"Name:\", name)\n",
        "print(\"Age:\", age)\n",
        "\n"
      ],
      "metadata": {
        "colab": {
          "base_uri": "https://localhost:8080/"
        },
        "id": "7_QkKwDxyJg-",
        "outputId": "42067398-96f2-4891-f99e-08bc15b2d261"
      },
      "execution_count": 37,
      "outputs": [
        {
          "output_type": "stream",
          "name": "stdout",
          "text": [
            "Name: Vansh\n",
            "Age: 20\n"
          ]
        }
      ]
    },
    {
      "cell_type": "code",
      "source": [
        "#Question3: Write code to print all the pre-defined keywords in Python using the keyword library\n",
        "import keyword\n",
        "print(keyword.kwlist)\n",
        "\n",
        "#Or\n",
        "help('keywords')"
      ],
      "metadata": {
        "colab": {
          "base_uri": "https://localhost:8080/"
        },
        "id": "a7KxGrmyzFXN",
        "outputId": "424e521a-8fcc-4fc8-e6fd-789db0b3bafb"
      },
      "execution_count": 40,
      "outputs": [
        {
          "output_type": "stream",
          "name": "stdout",
          "text": [
            "['False', 'None', 'True', 'and', 'as', 'assert', 'async', 'await', 'break', 'class', 'continue', 'def', 'del', 'elif', 'else', 'except', 'finally', 'for', 'from', 'global', 'if', 'import', 'in', 'is', 'lambda', 'nonlocal', 'not', 'or', 'pass', 'raise', 'return', 'try', 'while', 'with', 'yield']\n",
            "\n",
            "Here is a list of the Python keywords.  Enter any keyword to get more help.\n",
            "\n",
            "False               class               from                or\n",
            "None                continue            global              pass\n",
            "True                def                 if                  raise\n",
            "and                 del                 import              return\n",
            "as                  elif                in                  try\n",
            "assert              else                is                  while\n",
            "async               except              lambda              with\n",
            "await               finally             nonlocal            yield\n",
            "break               for                 not                 \n",
            "\n"
          ]
        }
      ]
    },
    {
      "cell_type": "code",
      "source": [
        "# Question4: Write a program that checks if a given word is a Python keyword.\n",
        "import keyword\n",
        "word = \"if\"\n",
        "if keyword.iskeyword(word):\n",
        "    print(f\"{word} is a Python keyword.\")\n",
        "else:\n",
        "    print(f\"{word} is not a Python keyword.\")\n",
        "\n",
        "#Or\n",
        "import keyword\n",
        "\n",
        "# Function to check if a word is a Python keyword\n",
        "def check_keyword(word):\n",
        "    if keyword.iskeyword(word):\n",
        "        return f\"'{word}' is a Python keyword.\"\n",
        "    else:\n",
        "        return f\"'{word}' is not a Python keyword.\"\n",
        "\n",
        "# Input from the user\n",
        "word = input(\"Enter a word to check: \")\n",
        "\n",
        "# Check if the word is a keyword and display the result\n",
        "result = check_keyword(word)\n",
        "print(result)"
      ],
      "metadata": {
        "colab": {
          "base_uri": "https://localhost:8080/"
        },
        "id": "t2oQKhvcz8Lt",
        "outputId": "d292ea3f-24e2-4f60-dcaa-a3764b0bc107"
      },
      "execution_count": 41,
      "outputs": [
        {
          "output_type": "stream",
          "name": "stdout",
          "text": [
            "if is a Python keyword.\n",
            "Enter a word to check: if\n",
            "'if' is a Python keyword.\n"
          ]
        }
      ]
    },
    {
      "cell_type": "code",
      "source": [
        "#Question5:  Create a list and tuple in Python, and demonstrate how attempting to change an element works differently for each\n",
        "# Creating a list\n",
        "my_list = [1, 2, 3]\n",
        "print(\"Original list:\", my_list)\n",
        "\n",
        "# Creating a tuple\n",
        "my_tuple = (1, 2, 3)\n",
        "print(\"Original tuple:\", my_tuple)\n",
        "\n",
        "# Changing an element in the list\n",
        "my_list[0] = 10\n",
        "print(\"Modified list:\", my_list)\n",
        "\n",
        "# Trying to change an element in the tuple (This will raise an error)\n",
        "try:\n",
        "    my_tuple[0] = 10\n",
        "except TypeError as e:\n",
        "    print(\"Error:\", e)\n",
        "\n",
        "\n",
        "\n"
      ],
      "metadata": {
        "colab": {
          "base_uri": "https://localhost:8080/"
        },
        "id": "LZCsCJTC0_UD",
        "outputId": "1a94c96c-35f8-4408-ee75-ef3fa2e2645d"
      },
      "execution_count": 44,
      "outputs": [
        {
          "output_type": "stream",
          "name": "stdout",
          "text": [
            "Original list: [1, 2, 3]\n",
            "Original tuple: (1, 2, 3)\n",
            "Modified list: [10, 2, 3]\n",
            "Error: 'tuple' object does not support item assignment\n"
          ]
        }
      ]
    },
    {
      "cell_type": "code",
      "source": [
        "#Question6:  Write a function to demonstrate the behavior of mutable and immutable arguments.\n",
        "\n",
        "# Function to demonstrate mutable and immutable arguments\n",
        "def modify_values(immutable_arg, mutable_arg):\n",
        "    # Attempting to change the immutable argument (e.g., int)\n",
        "    immutable_arg += 10\n",
        "    print(f\"Inside function, immutable_arg: {immutable_arg}\")\n",
        "\n",
        "    # Attempting to change the mutable argument (e.g., list)\n",
        "    mutable_arg.append(4)\n",
        "    print(f\"Inside function, mutable_arg: {mutable_arg}\")\n",
        "\n",
        "# Initial values\n",
        "immutable_value = 5\n",
        "mutable_value = [1, 2, 3]\n",
        "\n",
        "# Call the function with immutable and mutable arguments\n",
        "modify_values(immutable_value, mutable_value)\n",
        "\n",
        "# Check values after function call\n",
        "print(f\"Outside function, immutable_value: {immutable_value}\")\n",
        "print(f\"Outside function, mutable_value: {mutable_value}\")\n",
        "\n"
      ],
      "metadata": {
        "colab": {
          "base_uri": "https://localhost:8080/"
        },
        "id": "VZdkmsWg2Qwp",
        "outputId": "80c174ef-e8bd-47a4-d7fa-1410e5a47510"
      },
      "execution_count": 45,
      "outputs": [
        {
          "output_type": "stream",
          "name": "stdout",
          "text": [
            "Inside function, immutable_arg: 15\n",
            "Inside function, mutable_arg: [1, 2, 3, 4]\n",
            "Outside function, immutable_value: 5\n",
            "Outside function, mutable_value: [1, 2, 3, 4]\n"
          ]
        }
      ]
    },
    {
      "cell_type": "code",
      "source": [
        "#Question7: Write a program that performs basic arithmetic operations on two user-input numbers\n",
        "# Function to perform arithmetic operations\n",
        "def arithmetic_operations(num1, num2):\n",
        "    addition = num1 + num2\n",
        "    subtraction = num1 - num2\n",
        "    multiplication = num1 * num2\n",
        "    division = num1 / num2 if num2 != 0 else \"undefined (division by zero)\"\n",
        "\n",
        "    return addition, subtraction, multiplication, division\n",
        "\n",
        "# Input from the user\n",
        "num1 = float(input(\"Enter the first number: \"))\n",
        "num2 = float(input(\"Enter the second number: \"))\n",
        "\n",
        "# Perform operations\n",
        "addition, subtraction, multiplication, division = arithmetic_operations(num1, num2)\n",
        "\n",
        "# Display results\n",
        "print(f\"Addition: {num1} + {num2} = {addition}\")\n",
        "print(f\"Subtraction: {num1} - {num2} = {subtraction}\")\n",
        "print(f\"Multiplication: {num1} * {num2} = {multiplication}\")\n",
        "print(f\"Division: {num1} / {num2} = {division}\")\n"
      ],
      "metadata": {
        "colab": {
          "base_uri": "https://localhost:8080/"
        },
        "id": "PNgfy1w22tmK",
        "outputId": "6eb49a16-401e-4c4e-85f3-f8fea19c48ee"
      },
      "execution_count": 46,
      "outputs": [
        {
          "output_type": "stream",
          "name": "stdout",
          "text": [
            "Enter the first number: 3\n",
            "Enter the second number: 2\n",
            "Addition: 3.0 + 2.0 = 5.0\n",
            "Subtraction: 3.0 - 2.0 = 1.0\n",
            "Multiplication: 3.0 * 2.0 = 6.0\n",
            "Division: 3.0 / 2.0 = 1.5\n"
          ]
        }
      ]
    },
    {
      "cell_type": "code",
      "source": [
        "#Question8:  Write a program to demonstrate the use of logical operators.\n",
        "# Function to demonstrate logical operators\n",
        "def logical_operators_demo(a, b):\n",
        "    print(f\"Values: a = {a}, b = {b}\")\n",
        "\n",
        "    # AND operator: True if both conditions are true\n",
        "    if a > 0 and b > 0:\n",
        "        print(\"Both a and b are positive numbers.\")\n",
        "    else:\n",
        "        print(\"At least one of a or b is not a positive number.\")\n",
        "\n",
        "    # OR operator: True if at least one condition is true\n",
        "    if a > 0 or b > 0:\n",
        "        print(\"At least one of a or b is a positive number.\")\n",
        "    else:\n",
        "        print(\"Neither a nor b is a positive number.\")\n",
        "\n",
        "    # NOT operator: True if the condition is false\n",
        "    if not a > 0:\n",
        "        print(\"a is not a positive number.\")\n",
        "    else:\n",
        "        print(\"a is a positive number.\")\n",
        "\n",
        "    if not b > 0:\n",
        "        print(\"b is not a positive number.\")\n",
        "    else:\n",
        "        print(\"b is a positive number.\")\n",
        "\n",
        "# Input from the user\n",
        "a = int(input(\"Enter the value for a: \"))\n",
        "b = int(input(\"Enter the value for b: \"))\n",
        "\n",
        "# Demonstrate logical operators\n",
        "logical_operators_demo(a, b)\n",
        "\n"
      ],
      "metadata": {
        "colab": {
          "base_uri": "https://localhost:8080/"
        },
        "id": "WOARKiAn5ZWe",
        "outputId": "48e7bd07-b244-4fbf-f021-97cf74ddccd4"
      },
      "execution_count": 47,
      "outputs": [
        {
          "output_type": "stream",
          "name": "stdout",
          "text": [
            "Enter the value for a: 3\n",
            "Enter the value for b: -9\n",
            "Values: a = 3, b = -9\n",
            "At least one of a or b is not a positive number.\n",
            "At least one of a or b is a positive number.\n",
            "a is a positive number.\n",
            "b is not a positive number.\n"
          ]
        }
      ]
    },
    {
      "cell_type": "code",
      "source": [
        "#Question9: Write a Python program to convert user input from string to integer, float, and boolean types.\n",
        "# Function to convert user input to different types\n",
        "def convert_input(user_input):\n",
        "    # Convert to integer\n",
        "    try:\n",
        "        int_value = int(user_input)\n",
        "    except ValueError:\n",
        "        int_value = \"Conversion to integer failed\"\n",
        "\n",
        "    # Convert to float\n",
        "    try:\n",
        "        float_value = float(user_input)\n",
        "    except ValueError:\n",
        "        float_value = \"Conversion to float failed\"\n",
        "\n",
        "    # Convert to boolean\n",
        "    # In Python, an empty string or \"0\" converts to False, all other non-empty strings convert to True\n",
        "    bool_value = bool(user_input) and user_input.lower() not in ['false', '0', 'none', '']\n",
        "\n",
        "    return int_value, float_value, bool_value\n",
        "\n",
        "# Input from the user\n",
        "user_input = input(\"Enter a value: \")\n",
        "\n",
        "# Convert input\n",
        "int_value, float_value, bool_value = convert_input(user_input)\n",
        "\n",
        "# Display results\n",
        "print(f\"Original input: {user_input}\")\n",
        "print(f\"Integer conversion: {int_value}\")\n",
        "print(f\"Float conversion: {float_value}\")\n",
        "print(f\"Boolean conversion: {bool_value}\")\n",
        "\n"
      ],
      "metadata": {
        "colab": {
          "base_uri": "https://localhost:8080/"
        },
        "id": "1Pm3S8uW5ZQ9",
        "outputId": "99740b1f-c3c9-411e-c2ec-6604dc8d3c02"
      },
      "execution_count": 49,
      "outputs": [
        {
          "output_type": "stream",
          "name": "stdout",
          "text": [
            "Enter a value: 19.1\n",
            "Original input: 19.1\n",
            "Integer conversion: Conversion to integer failed\n",
            "Float conversion: 19.1\n",
            "Boolean conversion: True\n"
          ]
        }
      ]
    },
    {
      "cell_type": "code",
      "source": [
        "#Question10: Write code to demonstrate type casting with list elements.\n",
        "# Function to demonstrate type casting with list elements\n",
        "def type_casting_with_list_elements(my_list):\n",
        "    # Create lists to store converted values\n",
        "    int_list = []\n",
        "    float_list = []\n",
        "    bool_list = []\n",
        "\n",
        "    for element in my_list:\n",
        "        # Convert to integer\n",
        "        try:\n",
        "            int_value = int(element)\n",
        "            int_list.append(int_value)\n",
        "        except ValueError:\n",
        "            int_list.append(f\"Conversion to integer failed for '{element}'\")\n",
        "\n",
        "        # Convert to float\n",
        "        try:\n",
        "            float_value = float(element)\n",
        "            float_list.append(float_value)\n",
        "        except ValueError:\n",
        "            float_list.append(f\"Conversion to float failed for '{element}'\")\n",
        "\n",
        "        # Convert to boolean\n",
        "        bool_value = bool(element) and element.lower() not in ['false', '0', 'none', '']\n",
        "        bool_list.append(bool_value)\n",
        "\n",
        "    return int_list, float_list, bool_list\n",
        "\n",
        "# Example list with elements of different types (all as strings for demonstration)\n",
        "my_list = ['123', '45.67', 'false', '', '0', 'hello', '789']\n",
        "\n",
        "# Perform type casting\n",
        "int_list, float_list, bool_list = type_casting_with_list_elements(my_list)\n",
        "\n",
        "# Display results\n",
        "print(\"Original list:\", my_list)\n",
        "print(\"Integer conversions:\", int_list)\n",
        "print(\"Float conversions:\", float_list)\n",
        "print(\"Boolean conversions:\", bool_list)\n",
        "\n",
        "\n",
        "\n",
        "\n",
        "\n"
      ],
      "metadata": {
        "colab": {
          "base_uri": "https://localhost:8080/"
        },
        "id": "4Y3giZ9y5Yoy",
        "outputId": "ecc26f51-85c0-4b37-8068-7bf4ff91ef5a"
      },
      "execution_count": 53,
      "outputs": [
        {
          "output_type": "stream",
          "name": "stdout",
          "text": [
            "Original list: ['123', '45.67', 'false', '', '0', 'hello', '789']\n",
            "Integer conversions: [123, \"Conversion to integer failed for '45.67'\", \"Conversion to integer failed for 'false'\", \"Conversion to integer failed for ''\", 0, \"Conversion to integer failed for 'hello'\", 789]\n",
            "Float conversions: [123.0, 45.67, \"Conversion to float failed for 'false'\", \"Conversion to float failed for ''\", 0.0, \"Conversion to float failed for 'hello'\", 789.0]\n",
            "Boolean conversions: [True, True, False, False, False, True, True]\n"
          ]
        }
      ]
    },
    {
      "cell_type": "code",
      "source": [
        "#Question11: Write a program that checks if a number is positive, negative, or zero\n",
        "\n",
        "def check_number(num):\n",
        "    if num > 0:\n",
        "        return \"The number is positive.\"\n",
        "    elif num < 0:\n",
        "        return \"The number is negative.\"\n",
        "    else:\n",
        "        return \"The number is zero.\"\n",
        "\n",
        "# Input from the user\n",
        "number = float(input(\"Enter a number: \"))\n",
        "\n",
        "# Check the number and display the result\n",
        "result = check_number(number)\n",
        "print(result)\n",
        "\n"
      ],
      "metadata": {
        "colab": {
          "base_uri": "https://localhost:8080/"
        },
        "id": "NdLTl83F5YKS",
        "outputId": "6c779344-b589-47df-c470-620fecde85b4"
      },
      "execution_count": 54,
      "outputs": [
        {
          "output_type": "stream",
          "name": "stdout",
          "text": [
            "Enter a number: -193.5\n",
            "The number is negative.\n"
          ]
        }
      ]
    },
    {
      "cell_type": "code",
      "source": [
        "#Question12: Using a for loop to print numbers from 1 to 10\n",
        "for i in range(1, 11):\n",
        "    print(i)\n"
      ],
      "metadata": {
        "colab": {
          "base_uri": "https://localhost:8080/"
        },
        "id": "ae36jXtC5YC0",
        "outputId": "5853f4c5-9475-4dc6-ea91-4824a01a737c"
      },
      "execution_count": 55,
      "outputs": [
        {
          "output_type": "stream",
          "name": "stdout",
          "text": [
            "1\n",
            "2\n",
            "3\n",
            "4\n",
            "5\n",
            "6\n",
            "7\n",
            "8\n",
            "9\n",
            "10\n"
          ]
        }
      ]
    },
    {
      "cell_type": "code",
      "source": [
        "#Question13:  Write a Python program to find the sum of all even numbers between 1 and 50\n",
        "# Initialize a variable to store the sum\n",
        "sum_even_numbers = 0\n",
        "\n",
        "# Use a for loop to iterate through numbers from 1 to 50\n",
        "for number in range(1, 51):\n",
        "    if number % 2 == 0:  # Check if the number is even\n",
        "        sum_even_numbers += number  # Add the even number to the sum\n",
        "\n",
        "# Display the result\n",
        "print(\"The sum of all even numbers between 1 and 50 is:\", sum_even_numbers)\n",
        "\n"
      ],
      "metadata": {
        "colab": {
          "base_uri": "https://localhost:8080/"
        },
        "id": "vRmPl8Mr5X-B",
        "outputId": "3b7d12b5-add6-42fc-b1a7-3748a8fd81ec"
      },
      "execution_count": 56,
      "outputs": [
        {
          "output_type": "stream",
          "name": "stdout",
          "text": [
            "The sum of all even numbers between 1 and 50 is: 650\n"
          ]
        }
      ]
    },
    {
      "cell_type": "code",
      "source": [
        "#Question 14 Write a program to reverse a string using a while loop.\n",
        "\n",
        "def reverse_string(input_string):\n",
        "    # Initialize an empty string to store the reversed string\n",
        "    reversed_string = \"\"\n",
        "\n",
        "    # Get the length of the input string\n",
        "    length = len(input_string)\n",
        "\n",
        "    # Use a while loop to iterate through the string in reverse order\n",
        "    while length > 0:\n",
        "        length -= 1\n",
        "        reversed_string += input_string[length]\n",
        "\n",
        "    return reversed_string\n",
        "\n",
        "# Input from the user\n",
        "input_string = input(\"Enter a string to reverse: \")\n",
        "\n",
        "# Reverse the string\n",
        "reversed_string = reverse_string(input_string)\n",
        "\n",
        "# Display the result\n",
        "print(\"Reversed string:\", reversed_string)\n"
      ],
      "metadata": {
        "colab": {
          "base_uri": "https://localhost:8080/"
        },
        "id": "BMW9TMo35Xuf",
        "outputId": "e715f33a-9c5d-4687-c852-cfbdd75f90bd"
      },
      "execution_count": 57,
      "outputs": [
        {
          "output_type": "stream",
          "name": "stdout",
          "text": [
            "Enter a string to reverse: Data scientist Vansh Rathee\n",
            "Reversed string: eehtaR hsnaV tsitneics ataD\n"
          ]
        }
      ]
    },
    {
      "cell_type": "code",
      "source": [
        "# Queation15: Write a Python program to calculate the factorial of a number provided by the user using a while loop\n",
        "\n",
        "def factorial(n):\n",
        "  \"\"\"\n",
        "  This function calculates the factorial of a non-negative integer using a while loop.\n",
        "\n",
        "  Args:\n",
        "    n: A non-negative integer.\n",
        "\n",
        "  Returns:\n",
        "    The factorial of n, or 1 if n is 0.\n",
        "    Returns an error message if n is negative.\n",
        "  \"\"\"\n",
        "  if n < 0:\n",
        "    return \"Factorial is not defined for negative numbers.\"\n",
        "  elif n == 0:\n",
        "    return 1\n",
        "  else:\n",
        "    fact = 1\n",
        "    i = 1\n",
        "    while i <= n:\n",
        "      fact *= i\n",
        "      i += 1\n",
        "    return fact\n",
        "\n",
        "# Get input from the user\n",
        "num = int(input(\"Enter a non-negative integer: \"))\n",
        "\n",
        "# Calculate and print the factorial\n",
        "\n",
        "result = factorial(num)\n",
        "print(f\"The factorial of {num} is {result}\")\n"
      ],
      "metadata": {
        "colab": {
          "base_uri": "https://localhost:8080/"
        },
        "id": "RIC9xV-KB4UI",
        "outputId": "30830303-40ca-40a7-be5b-325c62f28f8d"
      },
      "execution_count": 59,
      "outputs": [
        {
          "output_type": "stream",
          "name": "stdout",
          "text": [
            "Enter a non-negative integer: 3\n",
            "The factorial of 3 is 6\n"
          ]
        }
      ]
    },
    {
      "cell_type": "code",
      "source": [],
      "metadata": {
        "id": "3EiB8oSXB-WY"
      },
      "execution_count": null,
      "outputs": []
    }
  ]
}